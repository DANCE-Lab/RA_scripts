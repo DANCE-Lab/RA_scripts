{
 "cells": [
  {
   "cell_type": "markdown",
   "metadata": {},
   "source": [
    "# Complete Each Exercise"
   ]
  },
  {
   "cell_type": "markdown",
   "metadata": {},
   "source": [
    "This is not graded, but important for learning Python. This is the learn by doing portion of the lecture. It is important to keep in mind that there are several ways to solve each of these exercises. (Below are just one example of how to solve these exercises, and certainly not the 'best' way)"
   ]
  },
  {
   "cell_type": "markdown",
   "metadata": {},
   "source": [
    "## 0) Conditional Logic \n",
    "\n",
    "1. Declare and assign a variable num to an integer value. \n",
    "2. Write a series of if, elif, else statements that will print the num you assigned. But for multiples of three print \"Fizz\" instead of the number and for the multiples of five print \"Buzz\". For numbers which are multiples of both three and five print \"FizzBuzz\"."
   ]
  },
  {
   "cell_type": "code",
   "execution_count": 4,
   "metadata": {},
   "outputs": [
    {
     "name": "stdout",
     "output_type": "stream",
     "text": [
      "8\n",
      "8\n",
      "Fizz\n",
      "8\n",
      "8\n",
      "Buzz\n",
      "Fizz\n",
      "8\n",
      "8\n",
      "8\n",
      "Fizz\n",
      "8\n",
      "Buzz\n",
      "8\n",
      "Fizz\n",
      "8\n"
     ]
    }
   ],
   "source": [
    "num = 8\n",
    "next = 8\n",
    "while next < 100:\n",
    "    if next % 3 == 0 and next % 5 == 0:\n",
    "        print('FizzBuzz')\n",
    "    if next % 3 == 0:\n",
    "        print('Fizz')\n",
    "    if next % 5 == 0:\n",
    "        print('Buzz')\n",
    "    else:\n",
    "        print(num)\n",
    "    next += 8"
   ]
  },
  {
   "cell_type": "markdown",
   "metadata": {},
   "source": [
    "## 1). FizzBuzz\n",
    "\n",
    "Write a program that prints the numbers from 1 to 20. But for multiples of three print “Fizz” instead of the number and for the multiples of five print “Buzz”. For numbers which are multiples of both three and five print “FizzBuzz”."
   ]
  },
  {
   "cell_type": "code",
   "execution_count": 5,
   "metadata": {},
   "outputs": [
    {
     "name": "stdout",
     "output_type": "stream",
     "text": [
      "1\n",
      "2\n",
      "Fizz\n",
      "3\n",
      "4\n",
      "Buzz\n",
      "5\n",
      "Fizz\n",
      "6\n",
      "7\n",
      "8\n",
      "Fizz\n",
      "9\n",
      "Buzz\n",
      "10\n",
      "11\n",
      "Fizz\n",
      "12\n",
      "13\n",
      "14\n",
      "Fizz\n",
      "Buzz\n",
      "FizzBuzz\n",
      "16\n",
      "17\n",
      "Fizz\n",
      "18\n",
      "19\n",
      "Buzz\n",
      "20\n"
     ]
    }
   ],
   "source": [
    "num = 1\n",
    "while num < 21:\n",
    "    if num % 3 == 0:\n",
    "        print('Fizz')\n",
    "    if num % 5 == 0:\n",
    "        print('Buzz')\n",
    "    if num % 3 == 0 and num % 5 == 0:\n",
    "        print('FizzBuzz')\n",
    "    else:\n",
    "        print(num)\n",
    "    num += 1\n",
    "    \n",
    "    list = []\n",
    "for num in range(20):\n",
    "    if num > 1:\n",
    "        for i in range(2, num):\n",
    "            if (num % i) == 0:\n",
    "                break\n",
    "        else:\n",
    "            list.append(num)\n",
    "print(list)"
   ]
  },
  {
   "cell_type": "markdown",
   "metadata": {},
   "source": [
    "## 2). Generate Prime Numbers\n",
    "Write a program to generate a <b>list</b> of all prime numbers less than 20.\n",
    "Before starting it is important to note what a prime number is.\n",
    "1. A prime number has to be a positive integer\n",
    "2. Divisible by exactly 2 integers (1 and itself)\n",
    "3. 1 is not a prime number"
   ]
  },
  {
   "cell_type": "code",
   "execution_count": 7,
   "metadata": {},
   "outputs": [
    {
     "name": "stdout",
     "output_type": "stream",
     "text": [
      "[2, 3, 5, 7, 11, 13, 17, 19]\n"
     ]
    }
   ],
   "source": [
    "primes = []\n",
    "for num in range(2, 20):  \n",
    "    for i in range(2, num):  \n",
    "        if num % i == 0:  \n",
    "            break \n",
    "    else:  \n",
    "        primes.append(num)  \n",
    "\n",
    "print(primes)"
   ]
  },
  {
   "cell_type": "markdown",
   "metadata": {},
   "source": [
    "## 3). Fibonacci Sequence"
   ]
  },
  {
   "cell_type": "markdown",
   "metadata": {},
   "source": [
    "Fibonacci sequence is an integer sequence characterized by the fact that every number after the first two is the sum of the two preceding ones. By definition, the first two numbers in the Fibonacci sequence are either 1 and 1, or 0 and 1, depending on the chosen starting point of the sequence, and each subsequent number is the sum of the previous two."
   ]
  },
  {
   "cell_type": "code",
   "execution_count": 1,
   "metadata": {},
   "outputs": [
    {
     "name": "stdout",
     "output_type": "stream",
     "text": [
      "[1, 1, 2, 3, 5, 8, 13, 21, 34, 55, 89, 144, 233, 377, 610, 987]\n"
     ]
    }
   ],
   "source": [
    "first = 0\n",
    "second = 1\n",
    "list = []\n",
    "while second < 1000:\n",
    "    list.append(second)\n",
    "    new = first + second\n",
    "    first = second\n",
    "    second = new\n",
    "print(list)"
   ]
  },
  {
   "cell_type": "markdown",
   "metadata": {},
   "source": [
    "## 4). Word Count\n",
    "\n",
    "For the text in the variable <b>text</b>, count how many times each word occurs"
   ]
  },
  {
   "cell_type": "code",
   "execution_count": 3,
   "metadata": {},
   "outputs": [],
   "source": [
    "# Multiple line string\n",
    "text=\"\"\"Mr. Collins returned into Hertfordshire soon after it had been quitted by the Gardiners and Jane; but as he took up his abode with the Lucases, his arrival was no great inconvenience to Mrs. Bennet. His marriage was now fast approaching, and she was at length so far resigned as to think it inevitable, and even repeatedly to say, in an ill-natured tone, that she \"wished they might be happy.\" Thursday was to be the wedding day, and on Wednesday Miss Lucas paid her farewell visit; and when she rose to take leave, Elizabeth, ashamed of her mother's ungracious and reluctant good wishes, and sincerely affected herself, accompanied her out of the room. As they went downstairs together, Charlotte said:\"\"\""
   ]
  },
  {
   "cell_type": "code",
   "execution_count": 4,
   "metadata": {},
   "outputs": [
    {
     "name": "stdout",
     "output_type": "stream",
     "text": [
      "Mr. Collins returned into Hertfordshire soon after it had been quitted by the Gardiners and Jane; but as he took up his abode with the Lucases, his arrival was no great inconvenience to Mrs. Bennet. His marriage was now fast approaching, and she was at length so far resigned as to think it inevitable, and even repeatedly to say, in an ill-natured tone, that she \"wished they might be happy.\" Thursday was to be the wedding day, and on Wednesday Miss Lucas paid her farewell visit; and when she rose to take leave, Elizabeth, ashamed of her mother's ungracious and reluctant good wishes, and sincerely affected herself, accompanied her out of the room. As they went downstairs together, Charlotte said:\n"
     ]
    }
   ],
   "source": [
    "print(text)"
   ]
  },
  {
   "cell_type": "markdown",
   "metadata": {},
   "source": [
    "### Subtasks"
   ]
  },
  {
   "cell_type": "markdown",
   "metadata": {},
   "source": [
    "#### a. String Manipulation: Remove Punctuation, make all text lower()"
   ]
  },
  {
   "cell_type": "code",
   "execution_count": 7,
   "metadata": {},
   "outputs": [
    {
     "name": "stdout",
     "output_type": "stream",
     "text": [
      "mr collins returned into hertfordshire soon after it had been quitted by the gardiners and jane; but as he took up his abode with the lucases, his arrival was no great inconvenience to mrs bennet his marriage was now fast approaching, and she was at length so far resigned as to think it inevitable, and even repeatedly to say, in an ill-natured tone, that she \"wished they might be happy\" thursday was to be the wedding day, and on wednesday miss lucas paid her farewell visit; and when she rose to take leave, elizabeth, ashamed of her mother's ungracious and reluctant good wishes, and sincerely affected herself, accompanied her out of the room as they went downstairs together, charlotte said:\n"
     ]
    }
   ],
   "source": [
    "s = ''\n",
    "for char in text: \n",
    "    if char == '.':\n",
    "        pass\n",
    "    else:\n",
    "        char = char.lower()\n",
    "        s += char\n",
    "print(s)\n",
    "    "
   ]
  },
  {
   "cell_type": "markdown",
   "metadata": {},
   "source": [
    "#### b. String Manipulation: Split each word into a element in a list"
   ]
  },
  {
   "cell_type": "code",
   "execution_count": 15,
   "metadata": {},
   "outputs": [
    {
     "name": "stdout",
     "output_type": "stream",
     "text": [
      "['Mr.', 'Collins', 'returned', 'into', 'Hertfordshire', 'soon', 'after', 'it', 'had', 'been', 'quitted', 'by', 'the', 'Gardiners', 'and', 'Jane;', 'but', 'as', 'he', 'took', 'up', 'his', 'abode', 'with', 'the', 'Lucases,', 'his', 'arrival', 'was', 'no', 'great', 'inconvenience', 'to', 'Mrs.', 'Bennet.', 'His', 'marriage', 'was', 'now', 'fast', 'approaching,', 'and', 'she', 'was', 'at', 'length', 'so', 'far', 'resigned', 'as', 'to', 'think', 'it', 'inevitable,', 'and', 'even', 'repeatedly', 'to', 'say,', 'in', 'an', 'ill-natured', 'tone,', 'that', 'she', '\"wished', 'they', 'might', 'be', 'happy.\"', 'Thursday', 'was', 'to', 'be', 'the', 'wedding', 'day,', 'and', 'on', 'Wednesday', 'Miss', 'Lucas', 'paid', 'her', 'farewell', 'visit;', 'and', 'when', 'she', 'rose', 'to', 'take', 'leave,', 'Elizabeth,', 'ashamed', 'of', 'her', \"mother's\", 'ungracious', 'and', 'reluctant', 'good', 'wishes,', 'and', 'sincerely', 'affected', 'herself,', 'accompanied', 'her', 'out', 'of', 'the', 'room.', 'As', 'they', 'went', 'downstairs', 'together,', 'Charlotte']\n"
     ]
    }
   ],
   "source": [
    "l = []\n",
    "s = ''\n",
    "for char in text:\n",
    "    if char != ' ':\n",
    "        s += char\n",
    "    else:\n",
    "        l.append(s)\n",
    "        s = ''\n",
    "print(l)"
   ]
  },
  {
   "cell_type": "markdown",
   "metadata": {},
   "source": [
    "#### c. Count how many times each word occurs in a list using a dictionary"
   ]
  },
  {
   "cell_type": "code",
   "execution_count": 16,
   "metadata": {},
   "outputs": [
    {
     "name": "stdout",
     "output_type": "stream",
     "text": [
      "{'Mr.': 1, 'Collins': 1, 'returned': 1, 'into': 1, 'Hertfordshire': 1, 'soon': 1, 'after': 1, 'it': 2, 'had': 1, 'been': 1, 'quitted': 1, 'by': 1, 'the': 4, 'Gardiners': 1, 'and': 7, 'Jane;': 1, 'but': 1, 'as': 2, 'he': 1, 'took': 1, 'up': 1, 'his': 2, 'abode': 1, 'with': 1, 'Lucases,': 1, 'arrival': 1, 'was': 4, 'no': 1, 'great': 1, 'inconvenience': 1, 'to': 5, 'Mrs.': 1, 'Bennet.': 1, 'His': 1, 'marriage': 1, 'now': 1, 'fast': 1, 'approaching,': 1, 'she': 3, 'at': 1, 'length': 1, 'so': 1, 'far': 1, 'resigned': 1, 'think': 1, 'inevitable,': 1, 'even': 1, 'repeatedly': 1, 'say,': 1, 'in': 1, 'an': 1, 'ill-natured': 1, 'tone,': 1, 'that': 1, '\"wished': 1, 'they': 2, 'might': 1, 'be': 2, 'happy.\"': 1, 'Thursday': 1, 'wedding': 1, 'day,': 1, 'on': 1, 'Wednesday': 1, 'Miss': 1, 'Lucas': 1, 'paid': 1, 'her': 3, 'farewell': 1, 'visit;': 1, 'when': 1, 'rose': 1, 'take': 1, 'leave,': 1, 'Elizabeth,': 1, 'ashamed': 1, 'of': 2, \"mother's\": 1, 'ungracious': 1, 'reluctant': 1, 'good': 1, 'wishes,': 1, 'sincerely': 1, 'affected': 1, 'herself,': 1, 'accompanied': 1, 'out': 1, 'room.': 1, 'As': 1, 'went': 1, 'downstairs': 1, 'together,': 1, 'Charlotte': 1}\n"
     ]
    }
   ],
   "source": [
    "d = {}\n",
    "for word in l:\n",
    "    if word not in d:\n",
    "        d[word] = 1\n",
    "    else:\n",
    "        d[word] += 1\n",
    "print(d)"
   ]
  }
 ],
 "metadata": {
  "anaconda-cloud": {},
  "kernelspec": {
   "display_name": "Python 3",
   "language": "python",
   "name": "python3"
  },
  "language_info": {
   "codemirror_mode": {
    "name": "ipython",
    "version": 3
   },
   "file_extension": ".py",
   "mimetype": "text/x-python",
   "name": "python",
   "nbconvert_exporter": "python",
   "pygments_lexer": "ipython3",
   "version": "3.8.3"
  }
 },
 "nbformat": 4,
 "nbformat_minor": 1
}
