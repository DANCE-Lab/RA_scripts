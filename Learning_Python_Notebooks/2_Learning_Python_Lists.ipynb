{
 "cells": [
  {
   "cell_type": "markdown",
   "metadata": {
    "collapsed": true,
    "slideshow": {
     "slide_type": "-"
    }
   },
   "source": [
    "# Lists\n",
    "\n",
    "This document will teach you about lists, a fundamental python element. Please read the blocks and markdown and run all code blocks as you move through this exercise. Some blocks are exercises for you to complete on your own. Please answer accordingly and run the blocks to see the results. "
   ]
  },
  {
   "cell_type": "markdown",
   "metadata": {},
   "source": [
    "![](images/defineList.png)"
   ]
  },
  {
   "cell_type": "code",
   "execution_count": null,
   "metadata": {
    "slideshow": {
     "slide_type": "-"
    }
   },
   "outputs": [],
   "source": [
    "# Define a list\n",
    "z = [3, 7, 4, 2]\n",
    "print(z)"
   ]
  },
  {
   "cell_type": "markdown",
   "metadata": {},
   "source": [
    "Lists store an ordered collection of items which can be of different types. The list defined above has items that are all of the same type (int), but all the items of a list do not need to be of the same type as you can see below. The list contains an int, a bool, a string, and a float.\n",
    "\n",
    "- An **integer** is a whole number\n",
    "- A **bool** is a truth value used in condition statements: either `True` or `False`\n",
    "- A **string** is a sequence of characters enclosed in either single (' ') or double (\" \") quotes: `\"string\"`\n",
    "- A **float** is a point number or a fraction--demarcated by a decimal point: `4.13` or `2.0`"
   ]
  },
  {
   "cell_type": "code",
   "execution_count": null,
   "metadata": {},
   "outputs": [],
   "source": [
    "# Define a list\n",
    "heterogenousElements = [3, True, 'Science', 2.0]"
   ]
  },
  {
   "cell_type": "markdown",
   "metadata": {},
   "source": [
    "## Access Values in Lists\n",
    "Each item in a list has an assigned index value. It is important to note that python is a zero indexed based language. All this means is that the first item in the list is at index 0.\n",
    "\n",
    "![](images/accessList_a.png)"
   ]
  },
  {
   "cell_type": "code",
   "execution_count": null,
   "metadata": {},
   "outputs": [],
   "source": [
    "# Your turn: Define a heterogenous list with the following elements: 1 integer, 1 floats, one string, and one bool.\n",
    "your_list = []\n",
    "print(your_list)"
   ]
  },
  {
   "cell_type": "code",
   "execution_count": null,
   "metadata": {},
   "outputs": [],
   "source": [
    "# You can access the first item of a list at index 0 by typing the name of your list and then the index value\n",
    "# you wish to call. For example, to call the third element in list z, you would type:\n",
    "\n",
    "z[2]"
   ]
  },
  {
   "cell_type": "code",
   "execution_count": null,
   "metadata": {},
   "outputs": [],
   "source": [
    "# Your turn: Call the first element in your_list\n",
    "your_list[]"
   ]
  },
  {
   "cell_type": "markdown",
   "metadata": {},
   "source": [
    "Python also supports negative indexing. Negative indexing starts from the end. It can be more convienient at times to use negative indexing to get the last item in the list because you don’t have to know the length of the list to access the last item.\n",
    "\n",
    "![](images/negativeIndex_a.png)"
   ]
  },
  {
   "cell_type": "code",
   "execution_count": null,
   "metadata": {},
   "outputs": [],
   "source": [
    "# For example, to access last item in the list you would type:\n",
    "z[-1]"
   ]
  },
  {
   "cell_type": "code",
   "execution_count": null,
   "metadata": {},
   "outputs": [],
   "source": [
    "# Your turn: call the second-to-last item in your_list:\n",
    "your_list[]"
   ]
  },
  {
   "cell_type": "markdown",
   "metadata": {},
   "source": [
    "## Slice of Lists\n",
    "Slices are good for getting a subset of values in your list. For the example code below, it will return a list with the items from index 0 up to and not including index 2.\n",
    "![](images/sliceList_a.png)"
   ]
  },
  {
   "cell_type": "code",
   "execution_count": null,
   "metadata": {},
   "outputs": [],
   "source": [
    "# First index is inclusive (before the :) and last (after the :) is not\n",
    "\n",
    "# Define a list\n",
    "z = [3, 7, 4, 2]\n",
    "\n",
    "#Take a slice of the list containing the first two items\n",
    "print(z[0:2])"
   ]
  },
  {
   "cell_type": "markdown",
   "metadata": {},
   "source": [
    "![](images/sliceList_b.png)"
   ]
  },
  {
   "cell_type": "code",
   "execution_count": null,
   "metadata": {},
   "outputs": [],
   "source": [
    "# everything up to index 3\n",
    "z[:3]"
   ]
  },
  {
   "cell_type": "code",
   "execution_count": null,
   "metadata": {},
   "outputs": [],
   "source": [
    "#Your turn: extract the middle two items of your_list\n",
    "your_list[]"
   ]
  },
  {
   "cell_type": "markdown",
   "metadata": {},
   "source": [
    "![](images/sliceList_c.png)\n",
    "If you do not enter an index on the second side of the colon, you will get a slice containing everything from your first index to the end of the list. The code below returns a list with items from index 1 to the end of the list"
   ]
  },
  {
   "cell_type": "code",
   "execution_count": null,
   "metadata": {},
   "outputs": [],
   "source": [
    "# index 1 to end of list\n",
    "z[1:]"
   ]
  },
  {
   "cell_type": "code",
   "execution_count": null,
   "metadata": {},
   "outputs": [],
   "source": [
    "#You can also omit an index at the beginning of the list. This will take everything from the beginning of the list\n",
    "# up to, but not including the index on the other side of the colon\n",
    "z[:2]"
   ]
  },
  {
   "cell_type": "code",
   "execution_count": null,
   "metadata": {},
   "outputs": [],
   "source": [
    "#Your turn: return the final two items in your_list by taking a slice with only one specified index value\n",
    "your_list[]\n",
    "\n",
    "#And now return the first three items in your list by taking a slice with only one specified index value\n",
    "your_list[]"
   ]
  },
  {
   "cell_type": "markdown",
   "metadata": {},
   "source": [
    "## Update Item in a List"
   ]
  },
  {
   "cell_type": "markdown",
   "metadata": {},
   "source": [
    "\n",
    "![](images/updateList_a.png)\n",
    "\n",
    "Lists in Python are mutable. All that means is that after defining a list, it is possible to update the individual items in a list."
   ]
  },
  {
   "cell_type": "code",
   "execution_count": null,
   "metadata": {},
   "outputs": [],
   "source": [
    "# Defining a list\n",
    "z = [3, 7, 4, 2]\n",
    "\n",
    "# Update the item at index 1 with the string \"fish\"\n",
    "z[1] = \"fish\"\n",
    "print(z)"
   ]
  },
  {
   "cell_type": "code",
   "execution_count": null,
   "metadata": {},
   "outputs": [],
   "source": [
    "#Your turn: update your_list by replacing your bool with the string \"snake\"\n",
    "your_list[] ="
   ]
  },
  {
   "cell_type": "markdown",
   "metadata": {},
   "source": [
    "### Count the Number of Times a Value Occurs in a List\n",
    "You can count how many times an item occurs in your list by calling `.count()` after the name of your list. Below, we count how many times the number 4 occurs in the following list"
   ]
  },
  {
   "cell_type": "code",
   "execution_count": null,
   "metadata": {},
   "outputs": [],
   "source": [
    "count_list = [4, 1, 2, 5, 4, 10, 4, 15, 7, 12, 3, 2, 2, 1]\n",
    "count_list.count(4)"
   ]
  },
  {
   "cell_type": "code",
   "execution_count": null,
   "metadata": {},
   "outputs": [],
   "source": [
    "#Your turn: count how many times the number 2 appears in count_list\n",
    "count_list"
   ]
  },
  {
   "cell_type": "markdown",
   "metadata": {},
   "source": [
    "# List Methods\n",
    "Python lists have different methods that help you modify a list. This section goes over various python list methods."
   ]
  },
  {
   "cell_type": "markdown",
   "metadata": {},
   "source": [
    "### Index Method\n",
    "![](images/indexMethod.png)"
   ]
  },
  {
   "cell_type": "code",
   "execution_count": null,
   "metadata": {},
   "outputs": [],
   "source": [
    "# Define a list\n",
    "z = [4, 1, 5, 4, 10, 4]"
   ]
  },
  {
   "cell_type": "markdown",
   "metadata": {},
   "source": [
    "![](images/indexMethod_a.png)\n",
    "The index method returns the first index at which a value occurs. In the code below, it will return 0."
   ]
  },
  {
   "cell_type": "code",
   "execution_count": null,
   "metadata": {},
   "outputs": [],
   "source": [
    "z.index(4)"
   ]
  },
  {
   "cell_type": "markdown",
   "metadata": {},
   "source": [
    "![](images/indexMethod_b.png)\n",
    "You can also specify where you start your search by identifying which value you wish to find followed by the index number you want to start with."
   ]
  },
  {
   "cell_type": "code",
   "execution_count": null,
   "metadata": {},
   "outputs": [],
   "source": [
    "z.index(4, 2)"
   ]
  },
  {
   "cell_type": "code",
   "execution_count": null,
   "metadata": {},
   "outputs": [],
   "source": [
    "#Your turn. Find the index of the second 3 in numbers_list by using the index method\n",
    "numbers_list = [1, 0, 3, 4, 3, 7, 9, 2]\n",
    "numbers_list.index()"
   ]
  },
  {
   "cell_type": "markdown",
   "metadata": {},
   "source": [
    "### Sort Method \n",
    "![](images/sortMethod.png)\n",
    "\n",
    "The sort method sorts and alters the original list in place (low to high). You can also specify sorting from high to low by changing the sort boolean paramter: `.sort(reverse = True)`"
   ]
  },
  {
   "cell_type": "code",
   "execution_count": null,
   "metadata": {},
   "outputs": [],
   "source": [
    "#Sort list z from low to high\n",
    "z = [3, 7, 4, 2]\n",
    "z.sort()\n",
    "z #this prints the list you have sorted"
   ]
  },
  {
   "cell_type": "code",
   "execution_count": null,
   "metadata": {},
   "outputs": [],
   "source": [
    "#Your turn: sort numbers_list from high to low\n",
    "numbers_list #your code here\n",
    "numbers_list #this line prints your sorted list"
   ]
  },
  {
   "cell_type": "markdown",
   "metadata": {},
   "source": [
    "### Append Method\n",
    "![](images/appendMethod.png)\n",
    "The append method adds an element to the end of a list. This happens inplace."
   ]
  },
  {
   "cell_type": "code",
   "execution_count": null,
   "metadata": {},
   "outputs": [],
   "source": [
    "z = [7, 4, 3, 2]\n",
    "z.append(3)\n",
    "print(z)"
   ]
  },
  {
   "cell_type": "code",
   "execution_count": null,
   "metadata": {},
   "outputs": [],
   "source": [
    "#Your turn: Add the the number 9 to numbers_list\n",
    "#your code here\n",
    "print(numbers_list) #this line prints your updated list"
   ]
  },
  {
   "cell_type": "markdown",
   "metadata": {},
   "source": [
    "### Remove Method\n",
    "![](images/removeMethod.png)\n",
    "The remove method removes the first occurrence of a value in a list."
   ]
  },
  {
   "cell_type": "code",
   "execution_count": null,
   "metadata": {},
   "outputs": [],
   "source": [
    "z = [7, 4, 3, 2, 3]\n",
    "z.remove(2)\n",
    "z"
   ]
  },
  {
   "cell_type": "code",
   "execution_count": null,
   "metadata": {},
   "outputs": [],
   "source": [
    "#Your turn: remove the number 7 from numbers list\n"
   ]
  },
  {
   "cell_type": "markdown",
   "metadata": {},
   "source": [
    "### Pop Method\n",
    "![](images/popMethod.png)\n",
    "The pop method removes an item at the index you provide. This method will also return the item you removed from the list. If you don’t provide an index, it will by default remove the item at the last index."
   ]
  },
  {
   "cell_type": "code",
   "execution_count": null,
   "metadata": {},
   "outputs": [],
   "source": [
    "z = [7, 4, 3, 3]\n",
    "print(z.pop(1))\n",
    "print(z)"
   ]
  },
  {
   "cell_type": "code",
   "execution_count": null,
   "metadata": {},
   "outputs": [],
   "source": [
    "#Your turn: remove the last item in numbers_list using the pop method"
   ]
  },
  {
   "cell_type": "markdown",
   "metadata": {},
   "source": [
    "### Extend Method\n",
    "![](images/extendMethod.png)\n",
    "The method extends a list by appending items. The benefit of this is you can add lists together."
   ]
  },
  {
   "cell_type": "code",
   "execution_count": null,
   "metadata": {},
   "outputs": [],
   "source": [
    "z = [7, 3, 3]\n",
    "z.extend([4,5])\n",
    "print(z)"
   ]
  },
  {
   "cell_type": "code",
   "execution_count": null,
   "metadata": {},
   "outputs": [],
   "source": [
    "# Alternatively, the same thing could be accomplished by using the + operator.\n",
    "print([1,2] + [3,4])"
   ]
  },
  {
   "cell_type": "code",
   "execution_count": null,
   "metadata": {},
   "outputs": [],
   "source": [
    "# Your turn: Extend the following list using... \n",
    "short_list = ['a', 'b', 'c']\n",
    "\n",
    "#The extend method: add the letters 'd' and 'e'\n",
    "\n",
    "print()\n",
    "\n",
    "#The + method: add extra_letters to short_list using +\n",
    "extra_letters = ['z', 'y', 'x']\n",
    "\n",
    "print()"
   ]
  },
  {
   "cell_type": "markdown",
   "metadata": {},
   "source": [
    "### Insert Method\n",
    "![](images/insertMethod.png)\n",
    "The insert method inserts an item before the index you provide"
   ]
  },
  {
   "cell_type": "code",
   "execution_count": null,
   "metadata": {},
   "outputs": [],
   "source": [
    "z = [7, 3, 3, 4, 5]\n",
    "z.insert(4, [1, 2])\n",
    "print(z)"
   ]
  },
  {
   "cell_type": "code",
   "execution_count": null,
   "metadata": {},
   "outputs": [],
   "source": [
    "#Your turn: instert the string 'not' in the appropriate place\n",
    "hamlet = ['to', 'be', 'or', 'to', 'be']\n",
    "\n",
    "\n",
    "print(hamlet)"
   ]
  },
  {
   "cell_type": "markdown",
   "metadata": {},
   "source": [
    "### len Method\n",
    "len will tell you the length of any list, and is very useful for manipulating and parsing lists. You can find the length of any list by typing `len(list)`"
   ]
  },
  {
   "cell_type": "code",
   "execution_count": null,
   "metadata": {},
   "outputs": [],
   "source": [
    "len(z)"
   ]
  },
  {
   "cell_type": "code",
   "execution_count": null,
   "metadata": {},
   "outputs": [],
   "source": [
    "#Your turn: find the length of the following list\n",
    "long_list = [1, 2, 3, 4, 5, 'six', 'seven', 'eight', 9, 10]\n"
   ]
  },
  {
   "cell_type": "markdown",
   "metadata": {},
   "source": [
    "## Additonal Exercises"
   ]
  },
  {
   "cell_type": "code",
   "execution_count": null,
   "metadata": {},
   "outputs": [],
   "source": [
    "#Below are some lists\n",
    "fibonacci = [8, 1, 2, 5, 13, 1, 21, 3]\n",
    "animals = ['dog', 'cat', 'parrot', 'television', 'elephant', 'turkey']\n",
    "vegetables = ['potato', 'carrot', 'pepper', 'zucchini', 'mushroom']"
   ]
  },
  {
   "cell_type": "code",
   "execution_count": null,
   "metadata": {},
   "outputs": [],
   "source": [
    "#reorder the fibonacci sequence from low to high using one of the methods you learned in this notebook\n"
   ]
  },
  {
   "cell_type": "code",
   "execution_count": null,
   "metadata": {},
   "outputs": [],
   "source": [
    "#determine the length of the list: animals\n",
    "\n",
    "#replace the item \"television\" with \"tiger\" using one of the methods you learned in this notebook\n"
   ]
  },
  {
   "cell_type": "code",
   "execution_count": null,
   "metadata": {},
   "outputs": [],
   "source": [
    "#insert the term \"olive\" in between \"potato\" and \"carrot\" in the vegetables list\n",
    "\n",
    "#remove \"mushroom\" using the pop method\n",
    "\n",
    "#create a new list called household_pets using the slice method that contains only \"dog\", \"cat\", and \"parrot\""
   ]
  },
  {
   "cell_type": "code",
   "execution_count": null,
   "metadata": {},
   "outputs": [],
   "source": [
    "#make a new list called \"animals_and_veg\" by combining the lists animals and vegetables\n",
    "\n",
    "#append the term 'geode' to this list\n",
    "\n",
    "#use the index method to print the last term in your new list"
   ]
  }
 ],
 "metadata": {
  "anaconda-cloud": {},
  "celltoolbar": "Slideshow",
  "kernelspec": {
   "display_name": "Python 3",
   "language": "python",
   "name": "python3"
  },
  "language_info": {
   "codemirror_mode": {
    "name": "ipython",
    "version": 3
   },
   "file_extension": ".py",
   "mimetype": "text/x-python",
   "name": "python",
   "nbconvert_exporter": "python",
   "pygments_lexer": "ipython3",
   "version": "3.8.3"
  }
 },
 "nbformat": 4,
 "nbformat_minor": 1
}
