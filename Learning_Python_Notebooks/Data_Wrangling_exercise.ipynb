{
 "cells": [
  {
   "cell_type": "code",
   "execution_count": null,
   "metadata": {},
   "outputs": [],
   "source": [
    "\"\"\"\n",
    "Importing libraries: The first step when initiating a data wrangling script is to import your libraries. Numpy and Pandas are two excellent and versatile libraries \n",
    "that you can always import at the beginning of a script and will allow you to do a great deal of data wrangling. You can also import more depending on your needs.\n",
    "\n",
    "Commenting out code: It is also incredibly important to create well-commented code! You can comment with \"#\" or with triple quotes. An outside individual should be able\n",
    "to understand what you are doing in your script based just upon reading comments.\n",
    "\"\"\"\n",
    "# Import Libraries\n"
   ]
  },
  {
   "cell_type": "code",
   "execution_count": null,
   "metadata": {},
   "outputs": [],
   "source": [
    "\"\"\"\n",
    "Read in your data! \n",
    "The data we will be using today, a test excerpt from the Stroop Task, is stored in the same github folder as this notebook. Therefore, your computer should be able to\n",
    "read it in using just the name of the file, 'stroop_test.csv'. Bear in mind that pathnames must ALWAYS be read in with either double or single quotes (as a string). \n",
    "\n",
    "Below, we call pandas and utilize pandas function 'read_csv' to establish our dataframe. This function will read in a csv as a data frame, but to ensure that your data is \n",
    "in the correct format you can always call another pandas function, 'DataFrame', to ensure the format is correct\n",
    "\"\"\"\n",
    "# Read in stroop task data frame\n",
    "stroop = pd.read_csv('stroop_test.csv')\n",
    "\n",
    "# Convert to data frame\n"
   ]
  },
  {
   "cell_type": "code",
   "execution_count": null,
   "metadata": {},
   "outputs": [],
   "source": [
    "\"\"\"\n",
    "Let's get a better sense of what this data looks like! You can call \"head\" (which will return the first five rows of your df) or \"tail\" (which will return the last five\n",
    "rows of your df) to get a quick look at your data. You can also select specific rows by taking a slice of your data frame. \n",
    "\"\"\"\n",
    "# Return the first five rows of the df\n"
   ]
  },
  {
   "cell_type": "code",
   "execution_count": null,
   "metadata": {},
   "outputs": [],
   "source": [
    "# Return rows 10-15 by specifying a df slice\n"
   ]
  },
  {
   "cell_type": "code",
   "execution_count": null,
   "metadata": {},
   "outputs": [],
   "source": [
    "# Return the last five rows of the df\n",
    "\n",
    "\n",
    "\"\"\" \n",
    "Now we know that this data frame has 30 rows (numbered 0-29). A glance at the head, middle, and tail shows us that this is one session of the stroop task, completed by a single \n",
    "individual. \n",
    "\"\"\""
   ]
  },
  {
   "cell_type": "code",
   "execution_count": null,
   "metadata": {},
   "outputs": [],
   "source": [
    "\"\"\" \n",
    "It also looks like we can't see all of the columns that are included in this data frame! We can ask python to list them for us so we have better sense of what we're \n",
    "working with. \n",
    "\"\"\"\n"
   ]
  },
  {
   "cell_type": "code",
   "execution_count": null,
   "metadata": {},
   "outputs": [],
   "source": [
    "\"\"\" \n",
    "If we want to get a better look at any particular column, we can also call the head, tail, or index of that column. Let's take a closer look at 'Resp.corr'.\n",
    "First, we can select the column within the df with brackets [] to specify which column we want to look at. Then, return the first five rows\n",
    "\"\"\"\n"
   ]
  },
  {
   "cell_type": "code",
   "execution_count": null,
   "metadata": {},
   "outputs": [],
   "source": [
    "\"\"\" \n",
    "Now let's focus on figuring out which columns contain information that might be useful to us. It could be helpful to know if any columns contain ONLY NaN values! \n",
    "We can figure this out by having python iterate through the columns in this data frame and return whether any contain only NaN values. \n",
    "\"\"\"\n",
    "#Determine whether any stroop_df columns contain ONLY NaN values\n",
    "\n",
    "\n",
    "\"\"\" \n",
    "This is a pretty dense line of code! Let's break it down. \n",
    "1. \"nan_columns\": we start by establishing a variable called nan_columns. This variable will be a list containing the names of any columns that contain ONLY NaN values. \n",
    "2. \"stroop_df.columns\": we clarify what data we would like our code to access. Here, we specify that we will be looking at the stroop_df data frame, and break it down by\n",
    "its columns\n",
    "3. []: These square brackers determine what action we will be administering to stroop_df's columns. Here we are specifying a boolean operation with TWO actions (.isna() and\n",
    ".all()). These commands will be applied to stroop_df columns and will produce a boolean result (either True or False). We need to specify that these actions will be executed\n",
    "in the stroop_df inside the brackets to complete the boolean test.\n",
    "4. stroop_df.isna(): .isna() will test to see whether a value in the data frame is a 'NaN' value. It will return True if it is a NaN value, and False if it is not\n",
    "5. .all(): .all() extends .isna() to the entire column. Now, instead of boolean test returning True if a single value in a column is a NaN value, it will only return True if\n",
    "the entire column is NaN\n",
    "6. .to_list: This command at the end assigns any column that the boolean test returns as True (i.e., all values are NaN) to the list 'nan_columns'\n",
    "\"\"\"\n",
    "\n",
    "\"\"\" \n",
    "In this code, we switch .all() with .any() to produce a list with a modified boolean test that checks whether ANY nan value is in a column, as opposed to whether ALL \n",
    "values are NaNs\n",
    "\"\"\"\n",
    "#Columns including NaN values\n",
    "\n",
    "\n"
   ]
  },
  {
   "cell_type": "code",
   "execution_count": null,
   "metadata": {},
   "outputs": [],
   "source": [
    "\"\"\" \n",
    "Let's break these single-lines further, and re-write them as a for loop\n",
    "1. all_nan = []: first, we must establish an empty list. This is just like establishing 'nan_columns' or 'incl_nan' lists, except that breaking the operations into \n",
    "multiple lines of code requires first establishing an empty list that our loop will later fill with columns meeting our requirements\n",
    "2. for col in stroop_df.columns: This is the line that establishes our for loop! It contains quite a bit of information. First, 'for' initiates a loop. 'col' is a \n",
    "placeholder that allows us to specify individual elements of whatever we are iterating through. In this case, we are iterating through the columns in stroop_df, or\n",
    "stroop_df.columns. Remember, for lines must always END in a colon and be followed by an INDENTED line to execute properly.\n",
    "3. if stroop_df[col].isna().all(): This is an if statement, a logic statement, that performs the boolean test to see whether any columns in the df are ONLY NaNs. Here, we \n",
    "clarify what df we are using (stroop_df), we specify that instead of looking at the WHOLE df we are interested in each column, in turn (stroop_df[col]). We then specify two\n",
    "boolean operations to be executed in our if statement: .isna() (are values NaN?) and .all() (do ALL values satisfy our condition?). ONLY if our boolean statement returns a\n",
    "True value will the code continue to the next line. Remember, if statements must always END in a colon and be followed by an INDENTED line to execute properly.\n",
    "4. all_nan.append(col): Now we are asking the empty list that we established at the beginning to append any column that met the conditions set in the if statement. Because\n",
    "if statements will only pass inputs that meet their logic conditions to the following line, ONLY columns that include only NaN values will be appended to the list.\n",
    "5. print(all_nan): Print the list containing only NaN values. \n",
    "It matches the list generated by the code above!\n",
    "\"\"\"\n",
    "\n",
    "#Use a for loop to iterate through stroop_df columns\n",
    "\n",
    "\n",
    "\"\"\" \n",
    "Of course, the term 'col' is only a placeholder in the loop above that instructs python what to do with whatever element is being passed through the list. Because loops\n",
    "run more than once, the VALUE of col changes each time. The first time the loop runs, 'col' contains the value of the first item in the list. The second time it runs, 'col'\n",
    "is column 2. The last time it runs, 'col' is the final column in the data frame. Because col is just a placeholder, the letters could spell out anything. Below, the code \n",
    "identically with the placeholder 'silly'. However, for readability, it's always best to make the placeholder a word that makes sense.\n",
    "\"\"\"\n",
    "\n",
    "#demonstrate placeholder--can be any word!\n",
    "\n",
    "\n"
   ]
  },
  {
   "cell_type": "code",
   "execution_count": null,
   "metadata": {},
   "outputs": [],
   "source": [
    "\"\"\" \n",
    "Let's say that these columns, which contain all NaN values, are not helpful to us. We can drop any column we like from the df with the function '.drop'. However,\n",
    "when dropping columns, it's always a good idea to create a NEW data frame so that the original is preserved in python's memory.\n",
    "\"\"\"\n",
    "\n",
    "\"\"\" \n",
    "In this line, we create our new df (stroop_nonan) and drop the columns our boolean test told us contained only NaN values. 'drop' will remove a list of strings \n",
    "corresponding to column names. It will NOT work if the column names are misspelled in any way, so it can be cleaner to ask it to drop a computer-generated list (all_nan).\n",
    "But the following line of code is equally valid: \n",
    "\n",
    "stroop_nonan = stroop_df.drop(columns= ['Word.stopped', 'Resp.stopped', 'Unnamed: 23'])\n",
    "\"\"\"\n",
    "# Drop columns that contain only NaN values\n",
    "\n",
    "#print list of columns in new data frame\n"
   ]
  },
  {
   "cell_type": "code",
   "execution_count": null,
   "metadata": {},
   "outputs": [],
   "source": [
    "\"\"\" \n",
    "Let's refine some of those columns even further! If we're interested in stroop task outcomes, some of these columns are probably not relevant to our analyses.\n",
    "We will create a new df containing only columns we want to analyze.\n",
    "Note: When using single square brackets, you can only select one column! With double square brackets, you can select many. \n",
    "\"\"\"\n",
    "#select columns relevant for analysis\n",
    "\n",
    "\n",
    "#Call the first five rows our our new data frame\n"
   ]
  },
  {
   "cell_type": "code",
   "execution_count": null,
   "metadata": {},
   "outputs": [],
   "source": [
    "\"\"\" \n",
    "For our first analysis, let's see if there's a significant difference beetween response rate in correct versus incorrect trials! But first, let's rename some columns to\n",
    "make the column list read better.\n",
    "Note: the .rename command requires curly brackets. This is because this function takes a DICTIONARY, while '.drop' takes a LIST.\n",
    "\"\"\"\n",
    "# Rename columns in df for clarity\n",
    "\n",
    "\n",
    "# List new column names\n"
   ]
  },
  {
   "cell_type": "code",
   "execution_count": null,
   "metadata": {},
   "outputs": [],
   "source": [
    "\"\"\" \n",
    "Let's create two data frames now: one that contains ONLY correct trials, and one that contains ONLY incorrect trials. We can do this with a one-line command that will filter\n",
    "based on the values in the data frame. We will name our data frame containing correct values 'stroop_correct'.\n",
    "This is another one-liner containing two different commands! An iteration through data and a boolean statement. Let's break it down:\n",
    "1. stroop_correct: creating our NEW data frame that will contain only correct rows\n",
    "2. stroop_data: we are telling python what data we would like it to iterate through in this command\n",
    "3. []: Our single brackets isolate our logic statement\n",
    "4. stroop_data['resp_correct']: this isolates the column that has information that we care about\n",
    "5. == 1: Two equals next to each other create a logic statement that means \"is equal to one\". Therefore, in this logic statement, rows in our data frame will return either\n",
    "True (when the value in 'resp_correct' equals 1) or False (when the value in 'resp_correct' does not equal 1). stroop_correct will maintain only rows in stroop_data that \n",
    "pass the boolean test.\n",
    "\"\"\"\n",
    "# Create one data frame with only correct trials, and one with only incorrect trials\n",
    "\n",
    "\n",
    "# Return the head of the data frame containing only correct trials\n"
   ]
  },
  {
   "cell_type": "code",
   "execution_count": null,
   "metadata": {},
   "outputs": [],
   "source": [
    "\"\"\" \n",
    "Now let's try breaking that one-line statement into a longer-form loop! Even though loops are more computationally expensive, it can be really helpful to know exactly\n",
    "what each element of a single-line command does. The loop is equally valid and produces the exact same result.\n",
    "\"\"\"\n",
    "\n",
    "\"\"\"\n",
    "Let's break the loop down: \n",
    "1. stroop_loop: first we create a new data frame that is identical to stroop_data \n",
    "2. for row in stroop_data.index: Just like the command stroop_df.columns indicated that the loop would iterate through the df's columns, stroop_loop.index signifies that\n",
    "the loop will be iterating through stroop_loop's rows. This line establishes the loop, and names the iteration placeholder \"row\" for clarity. \n",
    "3. if stroop_loop['resp_correct][row] == 0: this is the boolean statement that tests whether the trial in question was correct (stroop_loop['resp_correct][row] = 1)\n",
    "or incorrect (stroop_loop['resp_correct][row] = 0). In this case, we only want trials that are incorrect to pass the test because they will be removed from the data frame\n",
    "in the next line of code.\n",
    "4. stroop_loop = stroop_loop.drop(row): This line removes any incorrect trial from the stroop_loop data frame. At the end of the iterations, stroop_loop will contain ONLY\n",
    "correct trials.\n",
    "5. stroop_loop.head(): this line returns our new df! The head reveals that it is identical to the df stroop_correct that we created in the last block.\n",
    "\"\"\"\n",
    "# Create a data frame with only correct trials\n",
    "\n",
    "\n"
   ]
  },
  {
   "cell_type": "code",
   "execution_count": null,
   "metadata": {},
   "outputs": [],
   "source": [
    "\"\"\" \n",
    "We are almost ready to perform our student's t-test! To perform this test, we must first import the library scipy.stats and the function ttest_ind.\n",
    "\n",
    "Then we can plug in the two indices that we would like to have tested. First, we call 'ttest_ind', which accepts two series of numbers that will be tested against each other.\n",
    "In this case, we are testing response rate in correct trials versus response rates in incorrect trials. All we need to do then is specify the relevant column (resp_rate)\n",
    "in both correct trial and incorrect trial dfs.\n",
    "\n",
    "We can see from the results that the difference is not significant.\n",
    "\"\"\"\n",
    "# Import scipy.stats library \n",
    "\n",
    "\n",
    "# Perform a student's t-test on response rate data\n",
    "\n",
    "\n"
   ]
  },
  {
   "cell_type": "code",
   "execution_count": null,
   "metadata": {},
   "outputs": [],
   "source": [
    "\"\"\" \n",
    "However, before we accept this result, we need to see whether the sizes of the arrays we are passing into the ttest_ind function are equal. You can easily determine\n",
    "the number of rows and columns by calling the '.shape' command. To keep ourselves organized, let's create a dictionary that will contain a label and value so we can see \n",
    "how many correct trials versus incorrect trials our participant had.\n",
    "\"\"\"\n",
    "\n",
    "# Create a dictionary containing df shapes\n"
   ]
  },
  {
   "cell_type": "code",
   "execution_count": null,
   "metadata": {},
   "outputs": [],
   "source": [
    "\"\"\" \n",
    "Our dictionary shows us that correct is actually twice as big as incorrect! Therefore, we may have to employ a welch's t-test, which accepts unequal sample sizes, \n",
    "instead of a student's t-test, which accepts equal sample sizes.\n",
    "\n",
    "You can easily turn your student's t-test into a welch's t-test by adding one of the ttest_ind built-in paremeters to your function. We will employ the 'equal variance' \n",
    "parameter, and set it to \"false\" because we now now that our variance is not equal.\n",
    "\n",
    "Our welch's t-test has shown us that there is not a significant difference in response rate between correct and incorrect trials.\n",
    "\"\"\"\n",
    "# Perform a welch's t-test on correct and incorrect trial response rates\n",
    "ttest_ind()"
   ]
  },
  {
   "cell_type": "code",
   "execution_count": null,
   "metadata": {},
   "outputs": [],
   "source": [
    "#Find what colors occur in the task and their frequency using the value_counts function\n",
    "stroop_data['text'].value_counts()"
   ]
  },
  {
   "cell_type": "code",
   "execution_count": null,
   "metadata": {},
   "outputs": [],
   "source": [
    "\"\"\" \n",
    "Let's try creating a short function that will give us some more information about colors in correct versus incorrect trials! A function\n",
    "is a collection of commands that takes a series of parameters (such as a data frame, a list, a dictionary, or a string) that can be \n",
    "changed to suit the programmer's needs. For example, commands we have been using such as \"ttest_ind\" are functions! In ttest_ind, \n",
    "the required parameters are two series that will be tested against each other, with optional parameters such as \"equal_var\". Being able\n",
    "to write your own gives you a lot of flexibility when working with specific data.\n",
    "\n",
    "Functions always begin with \"def\", then the name of the function, and then the parameters that function takes followed by a colon.\n",
    "For example: \n",
    "\n",
    "def foo(data_frame):\n",
    "    for row in data_frame.index:\n",
    "        print('hello_world')\n",
    "    return data_frame\n",
    "\n",
    "The function is then populated with whatever actions you need it to execute (indented, just like a for loop or an if statement). Often,\n",
    "you will need your function to return something that will be useful to you! In that case, you can call the command \"return\" at the end\n",
    "of your function. This will yield a transformed product. You can save the transformed product with your syntax when you call the function.\n",
    "To save the product of our function, \"foo\", I would write:\n",
    "\n",
    "saved_data_frame = foo(data_frame)\n",
    "\n",
    "Let's create a function that records the number and color of congruent trials in a given df\n",
    "\"\"\"\n",
    "#function to record the number and color of congruent trails in a given df\n",
    "def color_pairs(df):\n",
    "    color_count = {}\n",
    "    for row in df.index:\n",
    "        if df['text'][row] == df['letterColor'][row]:\n",
    "            if df['text'][row] not in color_count:\n",
    "                color_count[df['text'][row]] = 0\n",
    "            color_count[df['text'][row]] += 1\n",
    "    return color_count"
   ]
  },
  {
   "cell_type": "code",
   "execution_count": null,
   "metadata": {},
   "outputs": [],
   "source": [
    "#use \"color pairs\" function on correct and incorrect data frames\n",
    "incorrect_color_dic = color_pairs(stroop_incorrect)\n",
    "correct_color_dic = color_pairs(stroop_correct)\n",
    "print('incorrect congruent colors:', incorrect_color_dic)\n",
    "print('correct congruent colors:', correct_color_dic)"
   ]
  }
 ],
 "metadata": {
  "language_info": {
   "name": "python"
  }
 },
 "nbformat": 4,
 "nbformat_minor": 2
}
